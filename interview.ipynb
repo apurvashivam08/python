{
 "cells": [
  {
   "cell_type": "markdown",
   "id": "6156c23e",
   "metadata": {},
   "source": [
    "# NUMBERS"
   ]
  },
  {
   "cell_type": "code",
   "execution_count": 1,
   "id": "9af75c31",
   "metadata": {},
   "outputs": [
    {
     "name": "stdout",
     "output_type": "stream",
     "text": [
      "8\n",
      "40320\n"
     ]
    }
   ],
   "source": [
    "#factoriala\n",
    "inp=int(input())\n",
    "fact=1\n",
    "for i in range(1,inp+1):\n",
    "    fact*=i\n",
    "print(fact)"
   ]
  },
  {
   "cell_type": "code",
   "execution_count": 2,
   "id": "fdcd8695",
   "metadata": {},
   "outputs": [
    {
     "name": "stdout",
     "output_type": "stream",
     "text": [
      "ENter range10\n",
      "[0, 1, 1, 2, 3, 5, 8, 13, 21, 34]\n"
     ]
    }
   ],
   "source": [
    "#fibbonaci\n",
    "inp=int(input(\"ENter range\"))\n",
    "l=[]\n",
    "trm1=0\n",
    "trm2=1\n",
    "nextTrm=0\n",
    "for i in range(inp):\n",
    "    l.append(trm1)\n",
    "    nextTrm=trm1+trm2\n",
    "    trm1=trm2\n",
    "    trm2=nextTrm\n",
    "print(l)\n",
    "    \n",
    "    "
   ]
  },
  {
   "cell_type": "code",
   "execution_count": 3,
   "id": "0b9181a9",
   "metadata": {},
   "outputs": [
    {
     "name": "stdout",
     "output_type": "stream",
     "text": [
      "4569\n",
      "9654\n"
     ]
    }
   ],
   "source": [
    "#reverse number\n",
    "inp=int(input())\n",
    "reverse=0\n",
    "while(inp>0):\n",
    "    remainder=inp%10\n",
    "    reverse=reverse*10+remainder\n",
    "    inp//=10\n",
    "print(reverse)"
   ]
  },
  {
   "cell_type": "code",
   "execution_count": 4,
   "id": "1bfd2507",
   "metadata": {},
   "outputs": [
    {
     "name": "stdout",
     "output_type": "stream",
     "text": [
      "4114\n",
      "Palindrome\n"
     ]
    }
   ],
   "source": [
    "#palindrome\n",
    "inp=int(input())\n",
    "temp=inp\n",
    "reverse=0\n",
    "while(inp>0):\n",
    "    remainder=inp%10\n",
    "    reverse=reverse*10+remainder\n",
    "    inp//=10\n",
    "if temp==reverse:\n",
    "    print(\"Palindrome\")\n",
    "else:\n",
    "    print(\"Not Palindrome\")"
   ]
  },
  {
   "cell_type": "code",
   "execution_count": 5,
   "id": "fb50c652",
   "metadata": {},
   "outputs": [
    {
     "name": "stdout",
     "output_type": "stream",
     "text": [
      "370\n",
      "Armstrong\n"
     ]
    }
   ],
   "source": [
    "#armstrong\n",
    "inp=int(input())\n",
    "temp=inp\n",
    "sum=0\n",
    "while(inp>0):\n",
    "    remainder=inp%10\n",
    "    sum+=remainder**3\n",
    "    inp//=10\n",
    "if temp==sum:\n",
    "    print(\"Armstrong\")\n",
    "else:\n",
    "    print(\"Not Armstrong\")"
   ]
  },
  {
   "cell_type": "code",
   "execution_count": 6,
   "id": "9ba83563",
   "metadata": {},
   "outputs": [
    {
     "name": "stdout",
     "output_type": "stream",
     "text": [
      "7\n",
      "7  is prime\n"
     ]
    }
   ],
   "source": [
    "#prime number\n",
    "inp=int(input())\n",
    "flag=True\n",
    "for i in range(2,int(inp/2)):\n",
    "    if(inp%i==0):\n",
    "        flag=False\n",
    "        break\n",
    "if flag:\n",
    "    print(inp, \" is prime\")\n",
    "else:\n",
    "    print(inp,\" is not prime\")"
   ]
  },
  {
   "cell_type": "code",
   "execution_count": 7,
   "id": "2898b151",
   "metadata": {},
   "outputs": [
    {
     "name": "stdout",
     "output_type": "stream",
     "text": [
      "4\n",
      "24\n"
     ]
    }
   ],
   "source": [
    "#factorial using recursion\n",
    "def fact(n):\n",
    "    if n==0 or n==1:\n",
    "        return 1\n",
    "    else:\n",
    "        return n*fact(n-1)\n",
    "inp=int(input())\n",
    "print(fact(inp))"
   ]
  },
  {
   "cell_type": "code",
   "execution_count": 61,
   "id": "3aad9d81",
   "metadata": {},
   "outputs": [
    {
     "name": "stdout",
     "output_type": "stream",
     "text": [
      "2000\n",
      "L\n"
     ]
    }
   ],
   "source": [
    "#leap year\n",
    "y=int(input())\n",
    "if y%400==0:\n",
    "    print(\"L\")\n",
    "elif y%4==0 and y%100!=0:\n",
    "    print(\"L\")\n",
    "else:\n",
    "    print(\"NL\")"
   ]
  },
  {
   "cell_type": "code",
   "execution_count": 62,
   "id": "dea62a45",
   "metadata": {},
   "outputs": [
    {
     "name": "stdout",
     "output_type": "stream",
     "text": [
      "54\n",
      "24\n",
      "216\n"
     ]
    }
   ],
   "source": [
    "#lcm\n",
    "def lcm(a,b):\n",
    "    if a>b:\n",
    "        g=a\n",
    "    else:\n",
    "        g=b\n",
    "    while(True):\n",
    "        if((g%a==0) and (g%b==0)):\n",
    "            lcm=g\n",
    "            break\n",
    "        g+=1\n",
    "    return lcm\n",
    "    \n",
    "a=int(input())\n",
    "b=int(input())\n",
    "print(lcm(a,b))"
   ]
  },
  {
   "cell_type": "code",
   "execution_count": 63,
   "id": "bf6e51d3",
   "metadata": {
    "scrolled": true
   },
   "outputs": [
    {
     "name": "stdout",
     "output_type": "stream",
     "text": [
      "54\n",
      "24\n",
      "6\n"
     ]
    }
   ],
   "source": [
    "#hcf\n",
    "def hcf(a,b):\n",
    "    if a>b:\n",
    "        s=b\n",
    "    else:\n",
    "        s=a\n",
    "    for i in range(1,s+1):\n",
    "        if((a%i==0) and (b%i==0)):\n",
    "            hcf=i\n",
    "    return hcf\n",
    "\n",
    "a=int(input())\n",
    "b=int(input())\n",
    "print(hcf(a,b))"
   ]
  },
  {
   "cell_type": "markdown",
   "id": "ff2be185",
   "metadata": {},
   "source": [
    "# ARRAY"
   ]
  },
  {
   "cell_type": "code",
   "execution_count": 12,
   "id": "ca6e2811",
   "metadata": {},
   "outputs": [
    {
     "name": "stdout",
     "output_type": "stream",
     "text": [
      "6\n",
      "98\n"
     ]
    }
   ],
   "source": [
    "#largest\n",
    "def largest(arr):\n",
    "    largest=arr[0]\n",
    "    for i in range(1,len(arr)):\n",
    "        if arr[i]>largest:\n",
    "            largest=arr[i]\n",
    "    print(arr.index(largest))\n",
    "    return largest\n",
    "arr=[15,58,96,12,45,65,98,78,25]\n",
    "l=largest(arr)\n",
    "print(l)"
   ]
  },
  {
   "cell_type": "code",
   "execution_count": 25,
   "id": "c5985c34",
   "metadata": {},
   "outputs": [
    {
     "name": "stdout",
     "output_type": "stream",
     "text": [
      "12\n"
     ]
    }
   ],
   "source": [
    "#smallest\n",
    "def smallest(arr):\n",
    "    smallest=arr[0]\n",
    "    for i in range(1,len(arr)):\n",
    "        if arr[i]<smallest:\n",
    "            smallest=arr[i]\n",
    "    return smallest\n",
    "arr=[15,58,96,12,45,65,98,78,25]\n",
    "s=smallest(arr)\n",
    "print(s)"
   ]
  },
  {
   "cell_type": "code",
   "execution_count": 27,
   "id": "41b182a2",
   "metadata": {},
   "outputs": [
    {
     "name": "stdout",
     "output_type": "stream",
     "text": [
      "96\n"
     ]
    }
   ],
   "source": [
    "#second_largest\n",
    "def scndlar(a):\n",
    "    l=a[0]\n",
    "    s=a[0]\n",
    "    for i in range(1,len(a)):\n",
    "        if a[i]>l:\n",
    "            s=l\n",
    "            l=a[i]\n",
    "        elif a[i]>s:\n",
    "            s=a[i]\n",
    "    return s\n",
    "arr=[15,58,96,12,45,65,98,78,25]\n",
    "s=scndlar(arr)\n",
    "print(s)"
   ]
  },
  {
   "cell_type": "code",
   "execution_count": 5,
   "id": "55c6a115",
   "metadata": {},
   "outputs": [
    {
     "name": "stdout",
     "output_type": "stream",
     "text": [
      "{6: 98, 2: 96, 7: 78}\n"
     ]
    }
   ],
   "source": [
    "#third_largest\n",
    "def thirdlar(a):\n",
    "    l=a[0]\n",
    "    s=a[0]\n",
    "    t=a[0]\n",
    "    for i in range(1,len(a)):\n",
    "        if a[i]>l:\n",
    "            t=s\n",
    "            s=l\n",
    "            l=a[i]\n",
    "        elif a[i]>s:\n",
    "            t=s\n",
    "            s=a[i]\n",
    "        elif a[i]>t:\n",
    "            t=a[i]\n",
    "    return {a.index(l):l,a.index(s):s,a.index(t):t}\n",
    "arr=[15,58,96,12,45,65,98,78,25]\n",
    "t=thirdlar(arr)\n",
    "print(t)"
   ]
  },
  {
   "cell_type": "code",
   "execution_count": 32,
   "id": "4cddbf56",
   "metadata": {},
   "outputs": [
    {
     "name": "stdout",
     "output_type": "stream",
     "text": [
      "[12, 15, 25, 45, 58, 65, 78, 96, 98]\n"
     ]
    }
   ],
   "source": [
    "#sort array\n",
    "def sortArr(a):\n",
    "    for i in range(0,len(a)):\n",
    "        for j in range(i+1,len(a)):\n",
    "            if(a[i]>a[j]):\n",
    "                a[i],a[j]=a[j],a[i]\n",
    "    return a\n",
    "arr=[15,58,96,12,45,65,98,78,25]\n",
    "l=sortArr(arr)\n",
    "print(l)"
   ]
  },
  {
   "cell_type": "code",
   "execution_count": 44,
   "id": "6e021124",
   "metadata": {},
   "outputs": [
    {
     "name": "stdout",
     "output_type": "stream",
     "text": [
      "20\n",
      "80\n"
     ]
    }
   ],
   "source": [
    "#common in three sorted array\n",
    "def findCommon(ar1, ar2, ar3, n1, n2, n3):\n",
    "    i,j,k=0,0,0\n",
    "    while(i<n1 and j<n2 and k<n3):\n",
    "        if (ar1[i]==ar2[j] and ar2[j]==ar3[k]):\n",
    "            print(ar1[i])\n",
    "            i+=1\n",
    "            j+=1\n",
    "            k+=1\n",
    "        elif (ar1[i]<ar2[j]):\n",
    "            i+=1\n",
    "        elif (ar2[j]<ar3[k]):\n",
    "            j+=1\n",
    "        else:\n",
    "            k+=1\n",
    "    \n",
    "ar1 = [1, 5, 10, 20, 40, 80]\n",
    "ar2 = [6, 7, 20, 80, 100]\n",
    "ar3 = [3, 4, 15, 20, 30, 70, 80, 120]\n",
    "n1 = len(ar1)\n",
    "n2 = len(ar2)\n",
    "n3 = len(ar3)\n",
    "findCommon(ar1, ar2, ar3, n1, n2, n3)"
   ]
  },
  {
   "cell_type": "code",
   "execution_count": 4,
   "id": "bd935677",
   "metadata": {},
   "outputs": [
    {
     "name": "stdout",
     "output_type": "stream",
     "text": [
      "65\n"
     ]
    }
   ],
   "source": [
    "#kth largest\n",
    "def sortArr(a,n):\n",
    "    #sorting reverse(des)\n",
    "    for i in range(0,len(a)):\n",
    "        for j in range(i+1,len(a)):\n",
    "            if(a[i]<a[j]):\n",
    "                a[i],a[j]=a[j],a[i]\n",
    "    return a[n-1]\n",
    "arr=[15,58,96,12,45,65,98,78,25]\n",
    "k=4\n",
    "l=sortArr(arr,k)\n",
    "print(l)"
   ]
  },
  {
   "cell_type": "code",
   "execution_count": 5,
   "id": "a46dd45c",
   "metadata": {},
   "outputs": [
    {
     "name": "stdout",
     "output_type": "stream",
     "text": [
      "45\n"
     ]
    }
   ],
   "source": [
    "#kth smallest\n",
    "def sortArr(a,n):\n",
    "    #sorting (asc)\n",
    "    for i in range(0,len(a)):\n",
    "        for j in range(i+1,len(a)):\n",
    "            if(a[i]>a[j]):\n",
    "                a[i],a[j]=a[j],a[i]\n",
    "    return a[n-1]\n",
    "arr=[15,58,96,12,45,65,98,78,25]\n",
    "k=4\n",
    "l=sortArr(arr,k)\n",
    "print(l)"
   ]
  },
  {
   "cell_type": "code",
   "execution_count": 11,
   "id": "e2965a2a",
   "metadata": {},
   "outputs": [
    {
     "name": "stdout",
     "output_type": "stream",
     "text": [
      "[25, 78, 98, 65, 45, 12, 96, 58, 15]\n"
     ]
    }
   ],
   "source": [
    "#reverse\n",
    "def rev(arr,start,end):\n",
    "    while start<end:\n",
    "        arr[start],arr[end]=arr[end],arr[start]\n",
    "        start+=1\n",
    "        end-=1\n",
    "    return arr\n",
    "arr=[15,58,96,12,45,65,98,78,25]\n",
    "start=0\n",
    "end=len(arr)-1\n",
    "print(rev(arr,start,end))"
   ]
  },
  {
   "cell_type": "code",
   "execution_count": 15,
   "id": "f8413901",
   "metadata": {},
   "outputs": [
    {
     "name": "stdout",
     "output_type": "stream",
     "text": [
      "Duplicate elements in given array: \n",
      "[1, 2, 3, 8]\n"
     ]
    }
   ],
   "source": [
    "#duplicate elements\n",
    "arr = [1, 2, 3,1,1,1, 4, 2, 7, 8, 8, 3]     \n",
    "l=[]     \n",
    "print(\"Duplicate elements in given array: \")  \n",
    "#Searches for duplicate element    \n",
    "for i in range(0, len(arr)):    \n",
    "    for j in range(i+1, len(arr)):    \n",
    "        if(arr[i] == arr[j]):\n",
    "            if arr[j] in l:\n",
    "                break\n",
    "            else:\n",
    "                l.append(arr[j])  \n",
    "print(l)"
   ]
  },
  {
   "cell_type": "code",
   "execution_count": 19,
   "id": "dcc0f5f1",
   "metadata": {},
   "outputs": [
    {
     "name": "stdout",
     "output_type": "stream",
     "text": [
      "[1, 2, 3, 4, 7, 8]\n"
     ]
    }
   ],
   "source": [
    "#unique elements\n",
    "arr = [1, 2, 3,1,1,1, 4, 2, 7, 8, 8, 3];\n",
    "l=[]\n",
    "for i in range(0,len(arr)):\n",
    "    if arr[i] not in l:\n",
    "        l.append(arr[i])\n",
    "print(l)"
   ]
  },
  {
   "cell_type": "code",
   "execution_count": 39,
   "id": "4a9f30c2",
   "metadata": {},
   "outputs": [
    {
     "data": {
      "text/plain": [
       "5"
      ]
     },
     "execution_count": 39,
     "metadata": {},
     "output_type": "execute_result"
    }
   ],
   "source": [
    "#first repeating element in an array of integers\n",
    "def rep(arr):\n",
    "    l=[]\n",
    "    for i in range(0,len(arr)):\n",
    "        for j in range(i+1,len(arr)):\n",
    "            if arr[i]==arr[j]:\n",
    "                l.append(arr[i])\n",
    "                break\n",
    "    return l[0]\n",
    "arr = [10, 5, 3, 4, 3, 5, 6]\n",
    "rep(arr)"
   ]
  },
  {
   "cell_type": "code",
   "execution_count": 6,
   "id": "0de11968",
   "metadata": {},
   "outputs": [
    {
     "name": "stdout",
     "output_type": "stream",
     "text": [
      "6\n"
     ]
    }
   ],
   "source": [
    "def firstNonRepeating(arr, n):\n",
    "  \n",
    "    for i in range(n):\n",
    "        j = 0\n",
    "        while(j < n):\n",
    "            if (i != j and arr[i] == arr[j]):\n",
    "                break\n",
    "            j += 1\n",
    "        if (j == n):\n",
    "            return arr[i]\n",
    "    return None\n",
    "      \n",
    "# Driver code\n",
    "arr = [ 9, 4, 9, 6, 7, 4 ]\n",
    "n = len(arr)\n",
    "print(firstNonRepeating(arr, n))"
   ]
  },
  {
   "cell_type": "markdown",
   "id": "0bc7a8db",
   "metadata": {},
   "source": [
    "# PATTERN"
   ]
  },
  {
   "cell_type": "code",
   "execution_count": 48,
   "id": "d09a80c0",
   "metadata": {},
   "outputs": [
    {
     "name": "stdout",
     "output_type": "stream",
     "text": [
      "5\n",
      "*\n",
      "**\n",
      "***\n",
      "****\n",
      "*****\n"
     ]
    }
   ],
   "source": [
    "a=int(input())\n",
    "for i in range(1,a+1):\n",
    "    for j in range(1,i+1):\n",
    "        print(\"*\",end=\"\")\n",
    "    print()"
   ]
  },
  {
   "cell_type": "code",
   "execution_count": 51,
   "id": "107e9521",
   "metadata": {},
   "outputs": [
    {
     "name": "stdout",
     "output_type": "stream",
     "text": [
      "5\n",
      "    *\n",
      "   **\n",
      "  ***\n",
      " ****\n",
      "*****\n"
     ]
    }
   ],
   "source": [
    "a=int(input())\n",
    "for i in range(1,a+1):\n",
    "    for k in range(1,(a+1)-i):\n",
    "        print(end=\" \")\n",
    "    for j in range(1,i+1):\n",
    "        print(\"*\",end=\"\")\n",
    "    print()"
   ]
  },
  {
   "cell_type": "code",
   "execution_count": 52,
   "id": "df2342fe",
   "metadata": {},
   "outputs": [
    {
     "name": "stdout",
     "output_type": "stream",
     "text": [
      "5\n",
      "*****\n",
      "****\n",
      "***\n",
      "**\n",
      "*\n"
     ]
    }
   ],
   "source": [
    "a=int(input())\n",
    "for i in range(a,0,-1):\n",
    "    for j in range(i,0,-1):\n",
    "        print(\"*\",end=\"\")\n",
    "    print()"
   ]
  },
  {
   "cell_type": "code",
   "execution_count": 53,
   "id": "e29da768",
   "metadata": {},
   "outputs": [
    {
     "name": "stdout",
     "output_type": "stream",
     "text": [
      "5\n",
      "*    \n",
      "**   \n",
      "* *  \n",
      "*  * \n",
      "*****\n"
     ]
    }
   ],
   "source": [
    "a=int(input())\n",
    "for i in range(a):\n",
    "    for j in range(a):\n",
    "        if j==0 or i==(a-1) or i==j:\n",
    "            print(\"*\",end=\"\")\n",
    "        else:\n",
    "            print(end=\" \")\n",
    "    print()"
   ]
  },
  {
   "cell_type": "code",
   "execution_count": 54,
   "id": "13328368",
   "metadata": {},
   "outputs": [
    {
     "name": "stdout",
     "output_type": "stream",
     "text": [
      "5\n",
      "*****\n",
      " *  *\n",
      "  * *\n",
      "   **\n",
      "    *\n"
     ]
    }
   ],
   "source": [
    "a=int(input())\n",
    "for i in range(a):\n",
    "    for j in range(a):\n",
    "        if i==0 or j==(a-1) or i==j:\n",
    "            print(\"*\",end=\"\")\n",
    "        else:\n",
    "            print(end=\" \")\n",
    "    print()"
   ]
  },
  {
   "cell_type": "code",
   "execution_count": 56,
   "id": "43133b44",
   "metadata": {},
   "outputs": [
    {
     "name": "stdout",
     "output_type": "stream",
     "text": [
      "5\n",
      "*****\n",
      "*  * \n",
      "* *  \n",
      "**   \n",
      "*    \n"
     ]
    }
   ],
   "source": [
    "a=int(input())\n",
    "for i in range(a):\n",
    "    for j in range(a):\n",
    "        if i==0 or j==0 or i+j==a-1:\n",
    "            print(\"*\",end=\"\")\n",
    "        else:\n",
    "            print(end=\" \")\n",
    "    print()"
   ]
  },
  {
   "cell_type": "code",
   "execution_count": 58,
   "id": "a859b799",
   "metadata": {},
   "outputs": [
    {
     "name": "stdout",
     "output_type": "stream",
     "text": [
      "5\n",
      "    * \n",
      "   * * \n",
      "  * * * \n",
      " * * * * \n",
      "* * * * * \n"
     ]
    }
   ],
   "source": [
    "a=int(input())\n",
    "for i in range(a):\n",
    "    for k in range(a-i-1):\n",
    "        print(\" \",end=\"\")\n",
    "    for j in range(i+1):\n",
    "        print(\"*\",end=\" \")\n",
    "    print()"
   ]
  },
  {
   "cell_type": "code",
   "execution_count": 66,
   "id": "6f2d8aa9",
   "metadata": {},
   "outputs": [
    {
     "name": "stdout",
     "output_type": "stream",
     "text": [
      "5\n",
      "* * * * * \n",
      " * * * * \n",
      "  * * * \n",
      "   * * \n",
      "    * \n"
     ]
    }
   ],
   "source": [
    "a=int(input())\n",
    "for i in range(a,0,-1):\n",
    "    for k in range(0,a-i):\n",
    "        print(\" \",end=\"\")\n",
    "    for j in range(0,i):\n",
    "        print(\"*\",end=\" \")\n",
    "    print()"
   ]
  },
  {
   "cell_type": "code",
   "execution_count": 17,
   "id": "c346a874",
   "metadata": {
    "scrolled": true
   },
   "outputs": [
    {
     "name": "stdout",
     "output_type": "stream",
     "text": [
      "5\n",
      "* \n",
      "* * \n",
      "* * * \n",
      "* * * * \n",
      "* * * * * \n"
     ]
    }
   ],
   "source": [
    "a=int(input())\n",
    "line_no=1\n",
    "curr_star = 0\n",
    "while(line_no<=a):\n",
    "    if (curr_star < line_no):\n",
    "            print(\"* \", end = \"\")\n",
    "            curr_star += 1\n",
    "            continue\n",
    "    if (curr_star == line_no):\n",
    "            print(\"\")\n",
    "            line_no += 1\n",
    "            curr_star = 0"
   ]
  },
  {
   "cell_type": "code",
   "execution_count": 3,
   "id": "3c08838d",
   "metadata": {},
   "outputs": [
    {
     "name": "stdout",
     "output_type": "stream",
     "text": [
      "* \n",
      "* * \n",
      "* * * \n",
      "* * * * \n",
      "* * * * * \n"
     ]
    }
   ],
   "source": [
    "def star(n):\n",
    "    if n>0:\n",
    "        star(n-1)\n",
    "        print(\"* \"*n)\n",
    "star(5)"
   ]
  },
  {
   "cell_type": "code",
   "execution_count": 2,
   "id": "690a9bd5",
   "metadata": {},
   "outputs": [
    {
     "name": "stdout",
     "output_type": "stream",
     "text": [
      "1\n",
      "2\n",
      "3\n",
      "4\n",
      "5\n",
      "6\n",
      "7\n",
      "8\n",
      "9\n",
      "10\n"
     ]
    }
   ],
   "source": [
    "def countup(n):\n",
    "    if n >0:\n",
    "        countup(n - 1)\n",
    "        print(n)\n",
    "countup(10)"
   ]
  },
  {
   "cell_type": "code",
   "execution_count": 5,
   "id": "c5cd62f0",
   "metadata": {},
   "outputs": [],
   "source": [
    "# WORKING OF ABOVE PROGRAM\n",
    "# countup(10)\n",
    "#     countup(9)\n",
    "#         countup(8)...\n",
    "#             countup(1)\n",
    "#             print(1)\n",
    "#         print(2)\n",
    "#     print(3)...\n",
    "# print(10)"
   ]
  },
  {
   "cell_type": "code",
   "execution_count": 10,
   "id": "7bf00f7a",
   "metadata": {},
   "outputs": [
    {
     "name": "stdout",
     "output_type": "stream",
     "text": [
      "Sum of boundary elements is 33\n"
     ]
    }
   ],
   "source": [
    "# Python program to print boundary element\n",
    "# of the matrix.\n",
    "\n",
    "\n",
    "def printBoundary(a, m, n):\n",
    "\tsum = 0\n",
    "\tfor i in range(m):\n",
    "\t\tfor j in range(n):\n",
    "\t\t\tif (i == 0):\n",
    "\t\t\t\tsum += a[i][j]\n",
    "\t\t\telif (i == m-1):\n",
    "\t\t\t\tsum += a[i][j]\n",
    "\t\t\telif (j == 0):\n",
    "\t\t\t\tsum += a[i][j]\n",
    "\t\t\telif (j == n-1):\n",
    "\t\t\t\tsum += a[i][j]\n",
    "\treturn sum\n",
    "\t\n",
    "# Driver code\n",
    "a = [ [ 1, 2, 3, 4 ],\n",
    "      [ 5, 6, 7, 8 ],\n",
    "      [ 1, 2, 3, 4 ]]\n",
    "sum = printBoundary(a, 3,4 )\n",
    "print(\"Sum of boundary elements is\", sum)\n",
    "\n",
    "# This code is contributed by Sachin Bisht\n"
   ]
  },
  {
   "cell_type": "code",
   "execution_count": 6,
   "id": "e1e5812f",
   "metadata": {},
   "outputs": [
    {
     "name": "stdout",
     "output_type": "stream",
     "text": [
      "* \n",
      "* * \n",
      "* * * \n",
      "* * * * \n",
      "* * * * * \n"
     ]
    }
   ],
   "source": [
    "for i in range(1,6):\n",
    "    print(\"* \"*i)\n",
    "    "
   ]
  },
  {
   "cell_type": "code",
   "execution_count": 21,
   "id": "73d285f8",
   "metadata": {},
   "outputs": [
    {
     "name": "stdout",
     "output_type": "stream",
     "text": [
      "10\n",
      "0\n",
      "1\n",
      "1\n",
      "2\n",
      "3\n",
      "5\n",
      "8\n",
      "13\n",
      "21\n",
      "34\n"
     ]
    }
   ],
   "source": [
    "def fibo(n):\n",
    "    if n==0:\n",
    "        return 0\n",
    "    if n==1:\n",
    "        return 1\n",
    "    return (fibo(n-1)+fibo(n-2))\n",
    "a=int(input())\n",
    "for i in range(a):\n",
    "    print(fibo(i))"
   ]
  },
  {
   "cell_type": "code",
   "execution_count": 6,
   "id": "07f7fb8a",
   "metadata": {},
   "outputs": [
    {
     "name": "stdout",
     "output_type": "stream",
     "text": [
      "3\n",
      "3\n",
      "[17, 15, 4]\n",
      "[10, 12, 9]\n",
      "[11, 13, 18]\n"
     ]
    }
   ],
   "source": [
    "# Program to add two matrices using nested loop\n",
    "\n",
    "X = [[12,7,3],\n",
    "    [4 ,5,6],\n",
    "    [7 ,8,9]]\n",
    "\n",
    "Y = [[5,8,1],\n",
    "    [6,7,3],\n",
    "    [4,5,9]]\n",
    "\n",
    "# result = [[0,0,0],\n",
    "#          [0,0,0],\n",
    "#          [0,0,0]]\n",
    "\n",
    "# iterate through rows\n",
    "print(len(X))\n",
    "print(len(X[0]))\n",
    "for i in range(len(X)):\n",
    "   # iterate through columns\n",
    "   for j in range(len(X[0])):\n",
    "       result[i][j] = X[i][j] + Y[i][j]\n",
    "\n",
    "for r in result:\n",
    "   print(r)"
   ]
  },
  {
   "cell_type": "code",
   "execution_count": 7,
   "id": "2c36a5a4",
   "metadata": {},
   "outputs": [
    {
     "name": "stdout",
     "output_type": "stream",
     "text": [
      "[114, 160, 60, 27]\n",
      "[74, 97, 73, 14]\n",
      "[119, 157, 112, 23]\n"
     ]
    }
   ],
   "source": [
    "# Program to multiply two matrices using nested loops\n",
    "\n",
    "# take a 3x3 matrix\n",
    "A = [[12, 7, 3],\n",
    "\t[4, 5, 6],\n",
    "\t[7, 8, 9]]\n",
    "\n",
    "# take a 3x4 matrix\t\n",
    "B = [[5, 8, 1, 2],\n",
    "\t[6, 7, 3, 0],\n",
    "\t[4, 5, 9, 1]]\n",
    "\t\n",
    "result = [[0, 0, 0, 0],\n",
    "\t\t[0, 0, 0, 0],\n",
    "\t\t[0, 0, 0, 0]]\n",
    "\n",
    "# iterating by row of A\n",
    "for i in range(len(A)):\n",
    "\n",
    "\t# iterating by coloum by B\n",
    "\tfor j in range(len(B[0])):\n",
    "\n",
    "\t\t# iterating by rows of B\n",
    "\t\tfor k in range(len(B)):\n",
    "\t\t\tresult[i][j] += A[i][k] * B[k][j]\n",
    "\n",
    "for r in result:\n",
    "\tprint(r)\n"
   ]
  },
  {
   "cell_type": "code",
   "execution_count": 10,
   "id": "feddb275",
   "metadata": {
    "scrolled": true
   },
   "outputs": [
    {
     "name": "stdout",
     "output_type": "stream",
     "text": [
      "Sum of digits in 12345 is 15\n"
     ]
    }
   ],
   "source": [
    "# Recursive Python3 program to\n",
    "# find sum of digits of a number\n",
    "\n",
    "# Function to check sum of\n",
    "# digit using recursion\n",
    "def sum_of_digit( n ):\n",
    "\tif n == 0:\n",
    "\t\treturn 0\n",
    "\treturn (n % 10 + sum_of_digit(int(n / 10)))\n",
    "\n",
    "# Driven code to check above\n",
    "num = 12345\n",
    "result = sum_of_digit(num)\n",
    "print(\"Sum of digits in\",num,\"is\", result)\n"
   ]
  },
  {
   "cell_type": "code",
   "execution_count": 13,
   "id": "f37314e1",
   "metadata": {},
   "outputs": [
    {
     "name": "stdout",
     "output_type": "stream",
     "text": [
      "\n",
      "* \n",
      "* * \n",
      "* * * \n",
      "* * * * \n",
      "* * * * * \n"
     ]
    }
   ],
   "source": [
    "def pp(n):\n",
    "    if n>0:\n",
    "        pp(n-1)\n",
    "        print(\"* \",end=\"\")\n",
    "def pattern(n):\n",
    "    if n>0:\n",
    "        pattern(n-1)\n",
    "    pp(n)\n",
    "    print()\n",
    "n=5\n",
    "pattern(n)"
   ]
  },
  {
   "cell_type": "code",
   "execution_count": 1,
   "id": "bfc73765",
   "metadata": {},
   "outputs": [
    {
     "name": "stdout",
     "output_type": "stream",
     "text": [
      "* \n",
      "* * \n",
      "* * * \n",
      "* * * * \n",
      "* * * * * \n"
     ]
    }
   ],
   "source": [
    "def p(n):\n",
    "    if n!=0:\n",
    "        p(n-1)\n",
    "        print(\"* \"*n)\n",
    "p(5)\n"
   ]
  },
  {
   "cell_type": "code",
   "execution_count": null,
   "id": "5bbf7138",
   "metadata": {},
   "outputs": [],
   "source": []
  }
 ],
 "metadata": {
  "kernelspec": {
   "display_name": "Python 3",
   "language": "python",
   "name": "python3"
  },
  "language_info": {
   "codemirror_mode": {
    "name": "ipython",
    "version": 3
   },
   "file_extension": ".py",
   "mimetype": "text/x-python",
   "name": "python",
   "nbconvert_exporter": "python",
   "pygments_lexer": "ipython3",
   "version": "3.9.4"
  }
 },
 "nbformat": 4,
 "nbformat_minor": 5
}
