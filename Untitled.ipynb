{
 "cells": [
  {
   "cell_type": "code",
   "execution_count": 2,
   "id": "8e81bd77",
   "metadata": {
    "scrolled": true
   },
   "outputs": [
    {
     "name": "stdout",
     "output_type": "stream",
     "text": [
      "25\n",
      "3\n"
     ]
    }
   ],
   "source": [
    "#key in array\n",
    "a=[15,58,96,12,25,45,65,98,78,25,25]\n",
    "inpt=int(input())\n",
    "count=0\n",
    "for i in a:\n",
    "    if i==inpt:\n",
    "        count+=1\n",
    "print(count)"
   ]
  },
  {
   "cell_type": "code",
   "execution_count": 6,
   "id": "de4bdc73",
   "metadata": {},
   "outputs": [
    {
     "name": "stdout",
     "output_type": "stream",
     "text": [
      "6\n",
      "98\n"
     ]
    }
   ],
   "source": [
    "#largest\n",
    "def largest(num):\n",
    "    largest=num[0]\n",
    "    for n in num:\n",
    "        if n>largest:\n",
    "            largest=n\n",
    "    \n",
    "    print(num.index(largest))\n",
    "    return largest\n",
    "\n",
    "a=[15,58,96,12,45,65,98,78,25]\n",
    "l=largest(a)\n",
    "print(l)\n"
   ]
  },
  {
   "cell_type": "code",
   "execution_count": 4,
   "id": "0a71e60e",
   "metadata": {},
   "outputs": [
    {
     "name": "stdout",
     "output_type": "stream",
     "text": [
      "12\n"
     ]
    }
   ],
   "source": [
    "#smallest\n",
    "def smmalest(num):\n",
    "    smallest=num[0]\n",
    "    for n in num:\n",
    "        if n<smallest:\n",
    "            smallest=n\n",
    "    return smallest\n",
    "\n",
    "a=[15,58,96,12,45,65,98,78,25]\n",
    "l=largest(a)\n",
    "print(l)"
   ]
  },
  {
   "cell_type": "code",
   "execution_count": 1,
   "id": "ce9f8143",
   "metadata": {},
   "outputs": [
    {
     "name": "stdout",
     "output_type": "stream",
     "text": [
      "[15, 58, 96, 12, 45, 65, 98, 78, 25]\n",
      "[15, 58, 96, 12, 45, 65, 98, 78, 25]\n",
      "[12, 58, 96, 15, 45, 65, 98, 78, 25]\n",
      "[12, 58, 96, 15, 45, 65, 98, 78, 25]\n",
      "[12, 58, 96, 15, 45, 65, 98, 78, 25]\n",
      "[12, 58, 96, 15, 45, 65, 98, 78, 25]\n",
      "[12, 58, 96, 15, 45, 65, 98, 78, 25]\n",
      "[12, 58, 96, 15, 45, 65, 98, 78, 25]\n",
      "[12, 58, 96, 15, 45, 65, 98, 78, 25]\n",
      "[12, 15, 96, 58, 45, 65, 98, 78, 25]\n",
      "[12, 15, 96, 58, 45, 65, 98, 78, 25]\n",
      "[12, 15, 96, 58, 45, 65, 98, 78, 25]\n",
      "[12, 15, 96, 58, 45, 65, 98, 78, 25]\n",
      "[12, 15, 96, 58, 45, 65, 98, 78, 25]\n",
      "[12, 15, 96, 58, 45, 65, 98, 78, 25]\n",
      "[12, 15, 58, 96, 45, 65, 98, 78, 25]\n",
      "[12, 15, 45, 96, 58, 65, 98, 78, 25]\n",
      "[12, 15, 45, 96, 58, 65, 98, 78, 25]\n",
      "[12, 15, 45, 96, 58, 65, 98, 78, 25]\n",
      "[12, 15, 45, 96, 58, 65, 98, 78, 25]\n",
      "[12, 15, 25, 96, 58, 65, 98, 78, 45]\n",
      "[12, 15, 25, 58, 96, 65, 98, 78, 45]\n",
      "[12, 15, 25, 58, 96, 65, 98, 78, 45]\n",
      "[12, 15, 25, 58, 96, 65, 98, 78, 45]\n",
      "[12, 15, 25, 58, 96, 65, 98, 78, 45]\n",
      "[12, 15, 25, 45, 96, 65, 98, 78, 58]\n",
      "[12, 15, 25, 45, 65, 96, 98, 78, 58]\n",
      "[12, 15, 25, 45, 65, 96, 98, 78, 58]\n",
      "[12, 15, 25, 45, 65, 96, 98, 78, 58]\n",
      "[12, 15, 25, 45, 58, 96, 98, 78, 65]\n",
      "[12, 15, 25, 45, 58, 96, 98, 78, 65]\n",
      "[12, 15, 25, 45, 58, 78, 98, 96, 65]\n",
      "[12, 15, 25, 45, 58, 65, 98, 96, 78]\n",
      "[12, 15, 25, 45, 58, 65, 96, 98, 78]\n",
      "[12, 15, 25, 45, 58, 65, 78, 98, 96]\n",
      "[12, 15, 25, 45, 58, 65, 78, 96, 98]\n",
      "[12, 15, 25, 45, 58, 65, 78, 96, 98]\n"
     ]
    }
   ],
   "source": [
    "#sort an array\n",
    "def sortArr(a):\n",
    "    for i in range(0,len(a)):\n",
    "        for j in range(i+1,len(a)):\n",
    "            if (a[i]>a[j]):\n",
    "                a[i],a[j]=a[j],a[i]\n",
    "            print(a)\n",
    "    return a\n",
    "a=[15,58,96,12,45,65,98,78,25]\n",
    "l=sortArr(a)\n",
    "print(l)"
   ]
  },
  {
   "cell_type": "code",
   "execution_count": 8,
   "id": "1320ae90",
   "metadata": {},
   "outputs": [
    {
     "name": "stdout",
     "output_type": "stream",
     "text": [
      "492\n"
     ]
    }
   ],
   "source": [
    "#sum of array\n",
    "a=[15,58,96,12,45,65,98,78,25]\n",
    "sum=0\n",
    "for i in a:\n",
    "    sum+=i\n",
    "print(sum)"
   ]
  },
  {
   "cell_type": "code",
   "execution_count": 10,
   "id": "7da69719",
   "metadata": {},
   "outputs": [
    {
     "name": "stdout",
     "output_type": "stream",
     "text": [
      "96\n"
     ]
    }
   ],
   "source": [
    "def get_second_largest(nums):\n",
    "    largest = nums[0] #15,58,96\n",
    "    second_largest = nums[0] #15,58\n",
    "    for i in range(1,len(nums)):\n",
    "        if nums[i] > largest:\n",
    "            second_largest = largest\n",
    "            largest = nums[i]\n",
    "        elif nums[i] > second_largest:\n",
    "            second_largest = nums[i]\n",
    "    return second_largest\n",
    "a=[15,58,96,12,45,65,98,78,25]\n",
    "print(get_second_largest(a))"
   ]
  },
  {
   "cell_type": "code",
   "execution_count": 25,
   "id": "49e6f4b2",
   "metadata": {},
   "outputs": [
    {
     "name": "stdout",
     "output_type": "stream",
     "text": [
      "15\n"
     ]
    }
   ],
   "source": [
    "#second smallest\n",
    "def get_second_smallest(nums):\n",
    "    largest = nums[0]\n",
    "    second_smallest = nums[0]\n",
    "    for i in range(1,len(nums)):\n",
    "        if nums[i] < largest:\n",
    "            second_smallest = largest\n",
    "            largest = nums[i]\n",
    "        elif nums[i] < second_smallest:\n",
    "            second_smallest = nums[i]\n",
    "    return second_smallest\n",
    "    \n",
    "a=[15,58,96,12,45,65,98,78,25]\n",
    "print(get_second_smallest(a))"
   ]
  },
  {
   "cell_type": "code",
   "execution_count": 4,
   "id": "8ab4d276",
   "metadata": {},
   "outputs": [
    {
     "name": "stdout",
     "output_type": "stream",
     "text": [
      "5\n",
      "1\n",
      "12\n",
      "123\n",
      "1234\n",
      "12345\n"
     ]
    }
   ],
   "source": [
    "a=int(input())\n",
    "for i  in range(1,a+1):\n",
    "    for j in range(1,i+1):\n",
    "        print(j,end=\"\")\n",
    "    print()"
   ]
  },
  {
   "cell_type": "code",
   "execution_count": 33,
   "id": "06bf724b",
   "metadata": {},
   "outputs": [
    {
     "name": "stdout",
     "output_type": "stream",
     "text": [
      "5\n",
      "*****\n",
      "****\n",
      "***\n",
      "**\n",
      "*\n"
     ]
    }
   ],
   "source": [
    "a=int(input())\n",
    "for i  in range(a,0,-1):\n",
    "    for j in range(i,0,-1):\n",
    "        print(\"*\",end=\"\")\n",
    "    print()"
   ]
  },
  {
   "cell_type": "code",
   "execution_count": 34,
   "id": "aa13b759",
   "metadata": {},
   "outputs": [
    {
     "name": "stdout",
     "output_type": "stream",
     "text": [
      "5\n",
      "    *\n",
      "   **\n",
      "  ***\n",
      " ****\n",
      "*****\n"
     ]
    }
   ],
   "source": [
    "a=int(input())\n",
    "for i  in range(1,a+1):\n",
    "    for k in range(1,(a+1)-i):\n",
    "        print(\" \",end=\"\")\n",
    "    for j in range(1,i+1):\n",
    "        print(\"*\",end=\"\")\n",
    "    print()"
   ]
  },
  {
   "cell_type": "code",
   "execution_count": 2,
   "id": "e578e22f",
   "metadata": {},
   "outputs": [
    {
     "name": "stdout",
     "output_type": "stream",
     "text": [
      "5\n",
      "*\n",
      "**\n",
      "***\n",
      "****\n",
      "*****\n",
      "****\n",
      "***\n",
      "**\n",
      "*\n"
     ]
    }
   ],
   "source": [
    "a=int(input())\n",
    "for i  in range(1,a+1):\n",
    "    for j in range(1,i+1):\n",
    "        print(\"*\",end=\"\")\n",
    "    print()\n",
    "for i  in range(a,1,-1):\n",
    "    for j in range(i,1,-1):\n",
    "        print(\"*\",end=\"\")\n",
    "    print()"
   ]
  },
  {
   "cell_type": "code",
   "execution_count": 11,
   "id": "d124728f",
   "metadata": {},
   "outputs": [
    {
     "name": "stdout",
     "output_type": "stream",
     "text": [
      "5\n",
      "*    \n",
      "**   \n",
      "* *  \n",
      "*  * \n",
      "*****\n"
     ]
    }
   ],
   "source": [
    "a=int(input())\n",
    "for i in range(a):\n",
    "    for j in range(a):\n",
    "        if j==0 or i==(a-1) or i==j:\n",
    "            print(\"*\",end=\"\")\n",
    "        else:\n",
    "            print(end=\" \")\n",
    "    print()"
   ]
  },
  {
   "cell_type": "code",
   "execution_count": 18,
   "id": "e080ef47",
   "metadata": {},
   "outputs": [
    {
     "name": "stdout",
     "output_type": "stream",
     "text": [
      "5\n",
      "*****\n",
      " *  *\n",
      "  * *\n",
      "   **\n",
      "    *\n"
     ]
    }
   ],
   "source": [
    "a=int(input())\n",
    "for i in range(a):\n",
    "    for j in range(a):\n",
    "        if i==0 or j==(a-1) or i==j:\n",
    "            print(\"*\",end=\"\")\n",
    "        else:\n",
    "            print(end=\" \")\n",
    "    print()"
   ]
  },
  {
   "cell_type": "code",
   "execution_count": 33,
   "id": "cf83ce69",
   "metadata": {},
   "outputs": [
    {
     "name": "stdout",
     "output_type": "stream",
     "text": [
      "5\n",
      "    *\n",
      "   **\n",
      "  * *\n",
      " *  *\n",
      "*****\n"
     ]
    }
   ],
   "source": [
    "a=int(input())\n",
    "for i in range(a):\n",
    "    for j in range(a):\n",
    "        if i==a-1 or j==a-1 or i+j==a-1:\n",
    "            print(\"*\",end=\"\")\n",
    "        else:\n",
    "            print(end=\" \")\n",
    "    print()"
   ]
  },
  {
   "cell_type": "code",
   "execution_count": 37,
   "id": "a5f84d93",
   "metadata": {},
   "outputs": [
    {
     "name": "stdout",
     "output_type": "stream",
     "text": [
      "5\n",
      "*****\n",
      "*  * \n",
      "* *  \n",
      "**   \n",
      "*    \n"
     ]
    }
   ],
   "source": [
    "a=int(input())\n",
    "for i in range(a):\n",
    "    for j in range(a):\n",
    "        if i==0 or j==0 or i+j==a-1:\n",
    "            print(\"*\",end=\"\")\n",
    "        else:\n",
    "            print(end=\" \")\n",
    "    print()"
   ]
  },
  {
   "cell_type": "code",
   "execution_count": 40,
   "id": "2b390652",
   "metadata": {},
   "outputs": [
    {
     "name": "stdout",
     "output_type": "stream",
     "text": [
      "10\n",
      "1\n",
      "12\n",
      "1 3\n",
      "1  4\n",
      "1   5\n",
      "1    6\n",
      "1     7\n",
      "1      8\n",
      "1       9\n",
      "12345678910\n"
     ]
    }
   ],
   "source": [
    "n=int(input())\n",
    "for i in range(1, n+1):\n",
    "    for j in range(1, i+1):\n",
    "        if(j == 1 or j == i or i == n):\n",
    "            print(j, end =\"\")\n",
    "        else:\n",
    "            print(end =\" \")\n",
    "    print()"
   ]
  },
  {
   "cell_type": "code",
   "execution_count": 1,
   "id": "67283538",
   "metadata": {},
   "outputs": [
    {
     "name": "stdout",
     "output_type": "stream",
     "text": [
      "6\n",
      "     * \n",
      "    * * \n",
      "   * * * \n",
      "  * * * * \n",
      " * * * * * \n",
      "* * * * * * \n"
     ]
    }
   ],
   "source": [
    "a=int(input())\n",
    "for i in range(a):\n",
    "    for k in range(a-i-1):\n",
    "        print(end=\" \")\n",
    "    for j in range(i+1):\n",
    "        print(\"*\",end=\" \")\n",
    "    print()\n",
    "        "
   ]
  },
  {
   "cell_type": "code",
   "execution_count": 12,
   "id": "21cc7b70",
   "metadata": {
    "scrolled": true
   },
   "outputs": [
    {
     "name": "stdout",
     "output_type": "stream",
     "text": [
      "6\n",
      "* * * * * * \n",
      " * * * * * \n",
      "  * * * * \n",
      "   * * * \n",
      "    * * \n",
      "     * \n"
     ]
    }
   ],
   "source": [
    "a=int(input())\n",
    "for i in range(a,0,-1):\n",
    "    for k in range(0,a-i):\n",
    "        print(end=\" \")\n",
    "    for j in range(0,i):\n",
    "        print(\"*\",end=\" \")\n",
    "    print()"
   ]
  },
  {
   "cell_type": "code",
   "execution_count": 11,
   "id": "592c61a8",
   "metadata": {},
   "outputs": [
    {
     "name": "stdout",
     "output_type": "stream",
     "text": [
      "5\n",
      "    *\n",
      "   ***\n",
      "  *****\n",
      " *******\n",
      "*********\n"
     ]
    }
   ],
   "source": [
    "a=int(input())\n",
    "for i in range(a):\n",
    "    for k in range(a-i-1):\n",
    "        print(end=\" \")\n",
    "    for j in range(2*i+1):\n",
    "        print(\"*\",end=\"\")\n",
    "    print()"
   ]
  },
  {
   "cell_type": "code",
   "execution_count": null,
   "id": "ecb32ebf",
   "metadata": {},
   "outputs": [],
   "source": []
  }
 ],
 "metadata": {
  "kernelspec": {
   "display_name": "Python 3",
   "language": "python",
   "name": "python3"
  },
  "language_info": {
   "codemirror_mode": {
    "name": "ipython",
    "version": 3
   },
   "file_extension": ".py",
   "mimetype": "text/x-python",
   "name": "python",
   "nbconvert_exporter": "python",
   "pygments_lexer": "ipython3",
   "version": "3.9.4"
  }
 },
 "nbformat": 4,
 "nbformat_minor": 5
}
