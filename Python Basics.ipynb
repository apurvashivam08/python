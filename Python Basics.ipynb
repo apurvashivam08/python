{
 "cells": [
  {
   "cell_type": "markdown",
   "id": "ad1339e2",
   "metadata": {},
   "source": [
    "1.Write a program which will find all such numbers which are divisible by 7 but are not a multiple of 5, between 2000 and 3200 (both included).The numbers obtained should be printed in a comma-separated sequence on a single line.\n",
    "\n"
   ]
  },
  {
   "cell_type": "code",
   "execution_count": 1,
   "id": "e43cbe83",
   "metadata": {},
   "outputs": [
    {
     "name": "stdout",
     "output_type": "stream",
     "text": [
      "2002,2009,2016,2023,2037,2044,2051,2058,2072,2079,2086,2093,2107,2114,2121,2128,2142,2149,2156,2163,2177,2184,2191,2198,2212,2219,2226,2233,2247,2254,2261,2268,2282,2289,2296,2303,2317,2324,2331,2338,2352,2359,2366,2373,2387,2394,2401,2408,2422,2429,2436,2443,2457,2464,2471,2478,2492,2499,2506,2513,2527,2534,2541,2548,2562,2569,2576,2583,2597,2604,2611,2618,2632,2639,2646,2653,2667,2674,2681,2688,2702,2709,2716,2723,2737,2744,2751,2758,2772,2779,2786,2793,2807,2814,2821,2828,2842,2849,2856,2863,2877,2884,2891,2898,2912,2919,2926,2933,2947,2954,2961,2968,2982,2989,2996,3003,3017,3024,3031,3038,3052,3059,3066,3073,3087,3094,3101,3108,3122,3129,3136,3143,3157,3164,3171,3178,3192,3199,\b\n"
     ]
    }
   ],
   "source": [
    "for i in range(2000,3201):\n",
    "    if i%7 == 0 and i%5!=0:\n",
    "        print(i,end=',')\n",
    "print(\"\\b\")"
   ]
  },
  {
   "cell_type": "markdown",
   "id": "6d9555fb",
   "metadata": {},
   "source": [
    "2.With a given integral number n, write a program to generate a dictionary that contains (i, i x i) such that is an integral number between 1 and n (both included). and then the program should print the dictionary.Suppose the following input is supplied to the program: 8\n",
    "Then, the output should be:\n",
    "{1: 1, 2: 4, 3: 9, 4: 16, 5: 25, 6: 36, 7: 49, 8: 64}"
   ]
  },
  {
   "cell_type": "code",
   "execution_count": 4,
   "id": "04a68760",
   "metadata": {},
   "outputs": [
    {
     "name": "stdout",
     "output_type": "stream",
     "text": [
      "8\n",
      "{1: 1, 2: 4, 3: 9, 4: 16, 5: 25, 6: 36, 7: 49, 8: 64}\n"
     ]
    }
   ],
   "source": [
    "n = int(input())\n",
    "ans = {}\n",
    "for i in range (1,n+1):\n",
    "    ans[i] = i*i\n",
    "print(ans)"
   ]
  },
  {
   "cell_type": "markdown",
   "id": "41017a2f",
   "metadata": {},
   "source": [
    "3.Write a program which accepts a sequence of comma-separated numbers from console and generate a list and a tuple which contains every number.Suppose the following input is supplied to the program:\n",
    "\n",
    "34,67,55,33,12,98\n",
    "Then, the output should be:\n",
    "\n",
    "['34', '67', '55', '33', '12', '98']\n",
    "('34', '67', '55', '33', '12', '98')"
   ]
  },
  {
   "cell_type": "code",
   "execution_count": 5,
   "id": "1200c99c",
   "metadata": {
    "scrolled": true
   },
   "outputs": [
    {
     "name": "stdout",
     "output_type": "stream",
     "text": [
      "34,67,55,33,12,98\n",
      "['34', '67', '55', '33', '12', '98']('34', '67', '55', '33', '12', '98')\n"
     ]
    }
   ],
   "source": [
    "lst= input().split(\",\")\n",
    "print(lst, end=\"\")\n",
    "print(tuple(lst))"
   ]
  },
  {
   "cell_type": "markdown",
   "id": "cd05b4a1",
   "metadata": {},
   "source": [
    "4.Sum of digits"
   ]
  },
  {
   "cell_type": "code",
   "execution_count": 1,
   "id": "765c3314",
   "metadata": {},
   "outputs": [
    {
     "name": "stdout",
     "output_type": "stream",
     "text": [
      "5\n",
      "15\n"
     ]
    }
   ],
   "source": [
    "n=int(input())\n",
    "sum=0\n",
    "for i in range(1,n+1):\n",
    "    sum+=i\n",
    "print(sum)"
   ]
  },
  {
   "cell_type": "markdown",
   "id": "d6754266",
   "metadata": {},
   "source": [
    "5.Power of a number"
   ]
  },
  {
   "cell_type": "code",
   "execution_count": 1,
   "id": "538d1156",
   "metadata": {},
   "outputs": [
    {
     "name": "stdout",
     "output_type": "stream",
     "text": [
      "Enter base: 5\n",
      "Enter exponent: 2\n",
      "5^2=25\n"
     ]
    }
   ],
   "source": [
    "base=int(input(\"Enter base: \"))\n",
    "exp=int(input(\"Enter exponent: \"))\n",
    "print(f\"{base}^{exp}={base**exp}\")"
   ]
  },
  {
   "cell_type": "markdown",
   "id": "3d8f8ff4",
   "metadata": {},
   "source": [
    "6.Printing random no bw 1-10"
   ]
  },
  {
   "cell_type": "code",
   "execution_count": 6,
   "id": "7fa7bc7f",
   "metadata": {},
   "outputs": [
    {
     "name": "stdout",
     "output_type": "stream",
     "text": [
      "GENERATING RANDOM NUMBER\n",
      "4\n"
     ]
    }
   ],
   "source": [
    "import random\n",
    "print(\"GENERATING RANDOM NUMBER\")\n",
    "random_num = random.randint(0,10)\n",
    "print(random_num)"
   ]
  },
  {
   "cell_type": "markdown",
   "id": "f7036598",
   "metadata": {},
   "source": [
    "7.Floor Division"
   ]
  },
  {
   "cell_type": "code",
   "execution_count": 7,
   "id": "61c3a6da",
   "metadata": {},
   "outputs": [
    {
     "name": "stdout",
     "output_type": "stream",
     "text": [
      "Enter num1:40\n",
      "Enter num2:6\n",
      "Result is 6\n",
      "Result is 6\n"
     ]
    }
   ],
   "source": [
    "import math\n",
    "a=int(input(\"Enter num1:\"))\n",
    "b=int(input(\"Enter num2:\"))\n",
    "print(f\"Result is {math.floor(a/b)}\")\n",
    "print(f\"Result is {a//b}\")"
   ]
  },
  {
   "cell_type": "markdown",
   "id": "f4814703",
   "metadata": {},
   "source": [
    "8.Swap Two Numbers"
   ]
  },
  {
   "cell_type": "code",
   "execution_count": 8,
   "id": "7f1aac40",
   "metadata": {},
   "outputs": [
    {
     "name": "stdout",
     "output_type": "stream",
     "text": [
      "Enter num1:55\n",
      "Enter num2:45\n",
      "No after swapping\n",
      "Num1:45\n",
      "Num2:55\n"
     ]
    }
   ],
   "source": [
    "a=int(input(\"Enter num1:\"))\n",
    "b=int(input(\"Enter num2:\"))\n",
    "temp=a\n",
    "a=b\n",
    "b=temp\n",
    "print(f\"No after swapping\\nNum1:{a}\\nNum2:{b}\")"
   ]
  },
  {
   "cell_type": "markdown",
   "id": "b216fb84",
   "metadata": {},
   "source": [
    "9.Max of two"
   ]
  },
  {
   "cell_type": "code",
   "execution_count": 9,
   "id": "787b50c2",
   "metadata": {},
   "outputs": [
    {
     "name": "stdout",
     "output_type": "stream",
     "text": [
      "Enter num1:89\n",
      "Enter num2:74\n",
      "89  is greatest\n"
     ]
    }
   ],
   "source": [
    "a=int(input(\"Enter num1:\"))\n",
    "b=int(input(\"Enter num2:\"))\n",
    "if a>b:\n",
    "    print(a, \" is greatest\")\n",
    "else:\n",
    "    print(b, \" is greatest\")"
   ]
  },
  {
   "cell_type": "markdown",
   "id": "3e7fd6bb",
   "metadata": {},
   "source": [
    "10. Max of three"
   ]
  },
  {
   "cell_type": "code",
   "execution_count": 11,
   "id": "62eabd7c",
   "metadata": {},
   "outputs": [
    {
     "name": "stdout",
     "output_type": "stream",
     "text": [
      "Enter num1:89\n",
      "Enter num2:74\n",
      "Enter num3:99\n",
      "99  is greatest\n"
     ]
    }
   ],
   "source": [
    "a=int(input(\"Enter num1:\"))\n",
    "b=int(input(\"Enter num2:\"))\n",
    "c=int(input(\"Enter num3:\"))\n",
    "if a>b and a>c:\n",
    "    print(a,\" is greatest\")\n",
    "elif b>a and b>c:\n",
    "    print(b,\" is greatest\")\n",
    "else:\n",
    "    print(c,\" is greatest\")"
   ]
  },
  {
   "cell_type": "markdown",
   "id": "df7a808b",
   "metadata": {},
   "source": [
    "11.Average"
   ]
  },
  {
   "cell_type": "code",
   "execution_count": 16,
   "id": "08eef323",
   "metadata": {},
   "outputs": [
    {
     "name": "stdout",
     "output_type": "stream",
     "text": [
      "Enter num of terms:3\n",
      "Enter num 1:50\n",
      "Enter num 2:55\n",
      "Enter num 3:45\n",
      "Average is 50.0\n"
     ]
    }
   ],
   "source": [
    "n=int(input(\"Enter num of terms:\"))\n",
    "sum=0\n",
    "for i in range(0,n):\n",
    "    num=int(input(f\"Enter num {i+1}:\"))\n",
    "    sum+=num\n",
    "print(f\"Average is {sum/n}\")"
   ]
  },
  {
   "cell_type": "markdown",
   "id": "a69a00cf",
   "metadata": {},
   "source": [
    "12.Sum of Digits"
   ]
  },
  {
   "cell_type": "code",
   "execution_count": 17,
   "id": "e189c194",
   "metadata": {},
   "outputs": [
    {
     "name": "stdout",
     "output_type": "stream",
     "text": [
      "Enter num of terms:5\n",
      "15\n"
     ]
    }
   ],
   "source": [
    "n=int(input(\"Enter num of terms:\"))\n",
    "sum=0\n",
    "for i in range(1,n+1):\n",
    "    sum+=i\n",
    "print(sum)"
   ]
  },
  {
   "cell_type": "markdown",
   "id": "240e372e",
   "metadata": {},
   "source": [
    "13.Sum of Sqr"
   ]
  },
  {
   "cell_type": "code",
   "execution_count": 20,
   "id": "c7617aa2",
   "metadata": {},
   "outputs": [
    {
     "name": "stdout",
     "output_type": "stream",
     "text": [
      "Enter num of terms:5\n",
      "55\n"
     ]
    }
   ],
   "source": [
    "def sumSqr(n):\n",
    "    sum=0\n",
    "    for i in range(1,n+1):\n",
    "        sum+=i**2\n",
    "    return sum\n",
    "n=int(input(\"Enter num of terms:\"))\n",
    "print(sumSqr(n))"
   ]
  },
  {
   "cell_type": "markdown",
   "id": "0cce1f81",
   "metadata": {},
   "source": [
    "14.Remove duplicate character"
   ]
  },
  {
   "cell_type": "code",
   "execution_count": 21,
   "id": "ac9e7c48",
   "metadata": {},
   "outputs": [
    {
     "name": "stdout",
     "output_type": "stream",
     "text": [
      "Enter Character:apurva\n",
      "apurv\n"
     ]
    }
   ],
   "source": [
    "def rem(c):\n",
    "    s=\"\"\n",
    "    for a in c:\n",
    "        if a not in s:\n",
    "            s+=a\n",
    "    return s\n",
    "n=(input(\"Enter Character:\"))\n",
    "print(rem(n))"
   ]
  },
  {
   "cell_type": "markdown",
   "id": "8134bfdd",
   "metadata": {},
   "source": [
    "15.Fibonacci"
   ]
  },
  {
   "cell_type": "code",
   "execution_count": 2,
   "id": "52709b69",
   "metadata": {},
   "outputs": [
    {
     "name": "stdout",
     "output_type": "stream",
     "text": [
      "Enter range:5\n",
      "[0, 1, 1, 2, 3]\n"
     ]
    }
   ],
   "source": [
    "n=int(input(\"Enter range:\"))\n",
    "t1=0\n",
    "t2=1\n",
    "l=[]\n",
    "for i in range (0,n):\n",
    "    l.append(t1)    #0,1,1,2,3\n",
    "    NextTrm=t1+t2   #1,2,3,5\n",
    "    t1=t2           #1,1,2,3\n",
    "    t2=NextTrm      #1,2,3,5\n",
    "print(l)"
   ]
  },
  {
   "cell_type": "markdown",
   "id": "0fae4c92",
   "metadata": {},
   "source": [
    "16.Reverse a number"
   ]
  },
  {
   "cell_type": "code",
   "execution_count": 1,
   "id": "ba3e5e62",
   "metadata": {},
   "outputs": [
    {
     "name": "stdout",
     "output_type": "stream",
     "text": [
      "Enter a number: 153\n",
      "351\n"
     ]
    }
   ],
   "source": [
    "inp=int(input(\"Enter a number: \"))\n",
    "rev=0\n",
    "while(inp>0):    #153\n",
    "    r=inp%10     #3,5,1\n",
    "    rev=rev*10+r #3,35,351\n",
    "    inp//=10    \n",
    "print(rev)"
   ]
  },
  {
   "cell_type": "markdown",
   "id": "169ad8c7",
   "metadata": {},
   "source": [
    "17.Palindrome"
   ]
  },
  {
   "cell_type": "code",
   "execution_count": 3,
   "id": "fee3ee53",
   "metadata": {},
   "outputs": [
    {
     "name": "stdout",
     "output_type": "stream",
     "text": [
      "Enter a number: 1222\n",
      "1222 is not palindrome\n"
     ]
    }
   ],
   "source": [
    "inp=int(input(\"Enter a number: \"))\n",
    "rev=0\n",
    "temp=inp\n",
    "while(inp>0):    #153\n",
    "    r=inp%10     #3,5,1\n",
    "    rev=rev*10+r #3,35,351\n",
    "    inp//=10    \n",
    "if temp==rev:\n",
    "    print(temp, \"is palindrome\")\n",
    "else:\n",
    "    print(temp, \"is not palindrome\")"
   ]
  },
  {
   "cell_type": "code",
   "execution_count": 7,
   "id": "a44ce4a7",
   "metadata": {},
   "outputs": [
    {
     "name": "stdout",
     "output_type": "stream",
     "text": [
      "avrupa\n"
     ]
    }
   ],
   "source": [
    "str=\"apurva\"\n",
    "print(str[::-1])"
   ]
  },
  {
   "cell_type": "markdown",
   "id": "30f1fe4a",
   "metadata": {},
   "source": [
    "18.Armstrong"
   ]
  },
  {
   "cell_type": "code",
   "execution_count": 5,
   "id": "840c3016",
   "metadata": {},
   "outputs": [
    {
     "name": "stdout",
     "output_type": "stream",
     "text": [
      "Enter a number: 370\n",
      "370 is armstong\n"
     ]
    }
   ],
   "source": [
    "inp=int(input(\"Enter a number: \"))\n",
    "sum=0\n",
    "temp=inp\n",
    "while(inp>0):    \n",
    "    r=inp%10     \n",
    "    sum+=(r*r*r) \n",
    "    inp//=10    \n",
    "if temp==sum:\n",
    "    print(temp, \"is armstong\")\n",
    "else:\n",
    "    print(temp, \"is not armstrong\")"
   ]
  },
  {
   "cell_type": "markdown",
   "id": "db7cf1de",
   "metadata": {},
   "source": [
    "18.2 Armstrong in a range"
   ]
  },
  {
   "cell_type": "code",
   "execution_count": 14,
   "id": "dcbd1275",
   "metadata": {},
   "outputs": [
    {
     "name": "stdout",
     "output_type": "stream",
     "text": [
      "Enter upper limit: 2000\n",
      "Enter lower limit: 100\n",
      "153,370,371,407,1634,"
     ]
    }
   ],
   "source": [
    "l=int(input(\"Enter lower limit: \"))\n",
    "u=int(input(\"Enter upper limit: \"))\n",
    "\n",
    "for i in range (l,u+1):\n",
    "    order=len(str(i))\n",
    "    sum=0\n",
    "    temp=i\n",
    "    while(temp>0):\n",
    "        digit = temp % 10\n",
    "        sum += digit ** order\n",
    "        temp //= 10\n",
    "    if i==sum:\n",
    "        print(sum,end=\",\")"
   ]
  },
  {
   "cell_type": "markdown",
   "id": "1d085cda",
   "metadata": {},
   "source": [
    "19.Factorial"
   ]
  },
  {
   "cell_type": "code",
   "execution_count": 6,
   "id": "c2364f9b",
   "metadata": {},
   "outputs": [
    {
     "name": "stdout",
     "output_type": "stream",
     "text": [
      "Enter a number: 8\n",
      "Factorial of 8 is 40320\n"
     ]
    }
   ],
   "source": [
    "inp=int(input(\"Enter a number: \"))\n",
    "fact=1\n",
    "for i in range(1,inp+1):\n",
    "    fact*=i\n",
    "print(f\"Factorial of {inp} is {fact}\")"
   ]
  },
  {
   "cell_type": "markdown",
   "id": "0298feab",
   "metadata": {},
   "source": [
    "20.Prime Number(better approach)"
   ]
  },
  {
   "cell_type": "code",
   "execution_count": 4,
   "id": "0af0957a",
   "metadata": {},
   "outputs": [
    {
     "name": "stdout",
     "output_type": "stream",
     "text": [
      "Enter a num to check whether it's prime or not: 907\n",
      "907  is prime\n"
     ]
    }
   ],
   "source": [
    "a=int(input(\"Enter a num to check whether it's prime or not: \"))\n",
    "flag=True\n",
    "for i in range(2,int(a/2)):\n",
    "    if(a%i==0):\n",
    "        flag=False\n",
    "        break\n",
    "if flag:\n",
    "    print(a, \" is prime\")\n",
    "else:\n",
    "    print(a,\" is not prime\")"
   ]
  },
  {
   "cell_type": "markdown",
   "id": "4aa52f81",
   "metadata": {},
   "source": [
    "21.Prime Number(best approach)"
   ]
  },
  {
   "cell_type": "code",
   "execution_count": 11,
   "id": "4677a2d1",
   "metadata": {},
   "outputs": [
    {
     "name": "stdout",
     "output_type": "stream",
     "text": [
      "Enter a num to check whether it's prime or not: 907\n",
      "907  is prime\n"
     ]
    }
   ],
   "source": [
    "import math\n",
    "a=int(input(\"Enter a num to check whether it's prime or not: \"))\n",
    "flag=True\n",
    "for i in range(2,int(math.sqrt(a)+1)):\n",
    "    if(a%i==0):\n",
    "        flag=False\n",
    "        break\n",
    "if flag:\n",
    "    print(a, \" is prime\")\n",
    "else:\n",
    "    print(a,\" is not prime\")"
   ]
  },
  {
   "cell_type": "markdown",
   "id": "6eb8e4da",
   "metadata": {},
   "source": [
    "22.Prime no in a range"
   ]
  },
  {
   "cell_type": "code",
   "execution_count": 17,
   "id": "d8a3e702",
   "metadata": {},
   "outputs": [
    {
     "name": "stdout",
     "output_type": "stream",
     "text": [
      "Enter upper limit: 200\n",
      "[2, 3, 5, 7, 11, 13, 17, 19, 23, 29, 31, 37, 41, 43, 47, 53, 59, 61, 67, 71, 73, 79, 83, 89, 97, 101, 103, 107, 109, 113, 127, 131, 137, 139, 149, 151, 157, 163, 167, 173, 179, 181, 191, 193, 197, 199]\n"
     ]
    }
   ],
   "source": [
    "import math\n",
    "def isPrime(n):\n",
    "    l=[]\n",
    "    for i in range(2,n):\n",
    "        for j in range(2,int(math.sqrt(i)+1)):\n",
    "            if i%j==0:\n",
    "                break\n",
    "        else:\n",
    "            l.append(i)\n",
    "#     print(len(l))\n",
    "    return l\n",
    "n=int(input(\"Enter upper limit: \"))\n",
    "print(isPrime(n))"
   ]
  },
  {
   "cell_type": "code",
   "execution_count": 11,
   "id": "fe70b496",
   "metadata": {},
   "outputs": [
    {
     "name": "stdout",
     "output_type": "stream",
     "text": [
      "Prime numbers between 1 and 100 are:\n",
      "2 3 5 7 11 13 17 19 23 29 31 37 41 43 47 53 59 61 67 71 73 79 83 89 97 "
     ]
    }
   ],
   "source": [
    "# Python program to display all the prime numbers within an interval\n",
    "\n",
    "lower = 1\n",
    "upper = 100\n",
    "\n",
    "print(\"Prime numbers between\", lower, \"and\", upper, \"are:\")\n",
    "\n",
    "for num in range(lower, upper + 1):\n",
    "   # all prime numbers are greater than 1\n",
    "   if num > 1:\n",
    "       for i in range(2, num):\n",
    "           if (num % i) == 0:\n",
    "               break\n",
    "       else:\n",
    "           print(num,end=\" \")"
   ]
  },
  {
   "cell_type": "markdown",
   "id": "8134b61a",
   "metadata": {},
   "source": [
    "23.Define a class which has at least two methods:\n",
    "getString: to get a string from console input\n",
    "printString: to print the string in upper case."
   ]
  },
  {
   "cell_type": "code",
   "execution_count": 1,
   "id": "f92eb346",
   "metadata": {},
   "outputs": [
    {
     "name": "stdout",
     "output_type": "stream",
     "text": [
      "apurva\n",
      "APURVA\n"
     ]
    }
   ],
   "source": [
    "class ioString:\n",
    "    def getString(self):\n",
    "        self.s=input()\n",
    "    def printString(self):\n",
    "        print(self.s.upper())\n",
    "x=ioString()\n",
    "x.getString()\n",
    "x.printString()"
   ]
  },
  {
   "cell_type": "markdown",
   "id": "0ab73d2e",
   "metadata": {},
   "source": [
    "24.Write a program that accepts a comma separated sequence of words as input and prints the words in a comma-separated sequence after sorting them alphabetically."
   ]
  },
  {
   "cell_type": "code",
   "execution_count": 4,
   "id": "e5ba4011",
   "metadata": {},
   "outputs": [
    {
     "name": "stdout",
     "output_type": "stream",
     "text": [
      "a,x,z,c,v\n",
      "['a', 'x', 'z', 'c', 'v']\n",
      "['a', 'c', 'v', 'x', 'z']\n",
      "a,c,v,x,z\n"
     ]
    }
   ],
   "source": [
    "lst = input().split(',')\n",
    "print(lst)\n",
    "lst.sort()\n",
    "print(lst)\n",
    "print(\",\".join(lst))"
   ]
  },
  {
   "cell_type": "markdown",
   "id": "29856d41",
   "metadata": {},
   "source": [
    "25.Write a program that accepts sequence of lines as input and prints the lines after making all characters in the sentence capitalized."
   ]
  },
  {
   "cell_type": "code",
   "execution_count": 7,
   "id": "c86e604f",
   "metadata": {},
   "outputs": [
    {
     "name": "stdout",
     "output_type": "stream",
     "text": [
      "ram eats mango with his spoon \n",
      "eva notty is hot\n",
      "\n",
      "['RAM EATS MANGO WITH HIS SPOON ', 'EVA NOTTY IS HOT']\n",
      "RAM EATS MANGO WITH HIS SPOON \n",
      "EVA NOTTY IS HOT\n"
     ]
    }
   ],
   "source": [
    "lst = []\n",
    "\n",
    "while True:\n",
    "    x = input()\n",
    "    if len(x)==0:\n",
    "        break\n",
    "    lst.append(x.upper())\n",
    "print(lst)\n",
    "for line in lst:\n",
    "    print(line)\n"
   ]
  },
  {
   "cell_type": "code",
   "execution_count": 18,
   "id": "23d16513",
   "metadata": {},
   "outputs": [
    {
     "name": "stdout",
     "output_type": "stream",
     "text": [
      "apurva shivam is great\n",
      "['apurva', 'shivam', 'is', 'great']\n",
      "APURVA SHIVAM IS GREAT "
     ]
    }
   ],
   "source": [
    "a=input().split(\" \") #returns list\n",
    "print(a)\n",
    "for i in a:\n",
    "    print(i.upper(), end=\" \")"
   ]
  },
  {
   "cell_type": "markdown",
   "id": "6a3bfcaf",
   "metadata": {},
   "source": [
    "26.Write a program that accepts a sequence of whitespace separated words as input and prints the words after removing all duplicate words and sorting them alphanumerically."
   ]
  },
  {
   "cell_type": "code",
   "execution_count": 23,
   "id": "5dc2dde2",
   "metadata": {},
   "outputs": [
    {
     "name": "stdout",
     "output_type": "stream",
     "text": [
      "hello world and practice makes perfect and hello world again\n",
      "again and hello makes perfect practice world\n"
     ]
    }
   ],
   "source": [
    "a=input().split(\" \")\n",
    "l=[]\n",
    "for i in a:\n",
    "    if i not in l:\n",
    "        l.append(i)\n",
    "print(\" \".join(sorted(l)))"
   ]
  },
  {
   "cell_type": "markdown",
   "id": "d1296aa3",
   "metadata": {},
   "source": [
    "27.Write a program which accepts a sequence of comma separated 4 digit binary numbers as its input and then check whether they are divisible by 5 or not. The numbers that are divisible by 5 are to be printed in a comma separated sequence.\n",
    "Example:\n",
    "0100,0011,1010,1001\n",
    "Then the output should be:\n",
    "1010"
   ]
  },
  {
   "cell_type": "code",
   "execution_count": 5,
   "id": "0a1a562f",
   "metadata": {},
   "outputs": [
    {
     "name": "stdout",
     "output_type": "stream",
     "text": [
      "0100,0011,1010,1001\n",
      "1010\n"
     ]
    }
   ],
   "source": [
    "a=input().split(\",\")\n",
    "s=[]\n",
    "for b in a:\n",
    "    if int(b,2)%5==0:\n",
    "        s.append(b)\n",
    "print(\"\".join(s))"
   ]
  },
  {
   "cell_type": "markdown",
   "id": "de1cc542",
   "metadata": {},
   "source": [
    "28.Write a program, which will find all such numbers between 1000 and 3000 (both included) such that each digit of the number is an even number.The numbers obtained should be printed in a comma-separated sequence on a single line."
   ]
  },
  {
   "cell_type": "code",
   "execution_count": 11,
   "id": "0010d6aa",
   "metadata": {},
   "outputs": [
    {
     "name": "stdout",
     "output_type": "stream",
     "text": [
      "2000,2002,2004,2006,2008,2020,2022,2024,2026,2028,2040,2042,2044,2046,2048,2060,2062,2064,2066,2068,2080,2082,2084,2086,2088,2200,2202,2204,2206,2208,2220,2222,2224,2226,2228,2240,2242,2244,2246,2248,2260,2262,2264,2266,2268,2280,2282,2284,2286,2288,2400,2402,2404,2406,2408,2420,2422,2424,2426,2428,2440,2442,2444,2446,2448,2460,2462,2464,2466,2468,2480,2482,2484,2486,2488,2600,2602,2604,2606,2608,2620,2622,2624,2626,2628,2640,2642,2644,2646,2648,2660,2662,2664,2666,2668,2680,2682,2684,2686,2688,2800,2802,2804,2806,2808,2820,2822,2824,2826,2828,2840,2842,2844,2846,2848,2860,2862,2864,2866,2868,2880,2882,2884,2886,2888\n"
     ]
    }
   ],
   "source": [
    "lst = []\n",
    "for i in range(1000,3001):\n",
    "    flag = 1\n",
    "    for j in str(i):          # every integer number i is converted into string\n",
    "        if ord(j)%2 != 0:     # ord returns ASCII value and j is every digit of i\n",
    "            flag = 0          # flag becomes zero if any odd digit found\n",
    "    if flag == 1:\n",
    "        lst.append(str(i))    # i is stored in list as string\n",
    "\n",
    "print(\",\".join(lst))\n"
   ]
  },
  {
   "cell_type": "code",
   "execution_count": 15,
   "id": "fa4f2d24",
   "metadata": {},
   "outputs": [
    {
     "name": "stdout",
     "output_type": "stream",
     "text": [
      "2000,2002,2004,2006,2008,2020,2022,2024,2026,2028,2040,2042,2044,2046,2048,2060,2062,2064,2066,2068,2080,2082,2084,2086,2088,2200,2202,2204,2206,2208,2220,2222,2224,2226,2228,2240,2242,2244,2246,2248,2260,2262,2264,2266,2268,2280,2282,2284,2286,2288,2400,2402,2404,2406,2408,2420,2422,2424,2426,2428,2440,2442,2444,2446,2448,2460,2462,2464,2466,2468,2480,2482,2484,2486,2488,2600,2602,2604,2606,2608,2620,2622,2624,2626,2628,2640,2642,2644,2646,2648,2660,2662,2664,2666,2668,2680,2682,2684,2686,2688,2800,2802,2804,2806,2808,2820,2822,2824,2826,2828,2840,2842,2844,2846,2848,2860,2862,2864,2866,2868,2880,2882,2884,2886,2888\n"
     ]
    }
   ],
   "source": [
    "items = []\n",
    "for i in range(2000, 3001):\n",
    "    s = str(i)\n",
    "    if (int(s[0])%2==0) and (int(s[1])%2==0) and (int(s[2])%2==0) and (int(s[3])%2==0):\n",
    "        items.append(s)\n",
    "print( \",\".join(items))"
   ]
  },
  {
   "cell_type": "markdown",
   "id": "bb256720",
   "metadata": {},
   "source": [
    "29.Write a program that accepts a sentence and calculate the number of letters and digits.\n",
    "\n",
    "Suppose the following input is supplied to the program:\n",
    "\n",
    "hello world! 123\n",
    "Then, the output should be:\n",
    "\n",
    "LETTERS 10\n",
    "DIGITS 3"
   ]
  },
  {
   "cell_type": "code",
   "execution_count": 19,
   "id": "531f6bc5",
   "metadata": {},
   "outputs": [
    {
     "name": "stdout",
     "output_type": "stream",
     "text": [
      "hello world! 123\n",
      "LENGTH 10\n",
      "DIGITS 3\n"
     ]
    }
   ],
   "source": [
    "a=input().split(\" \")\n",
    "l=[]\n",
    "d=[]\n",
    "for i in a:\n",
    "    for j in i:\n",
    "        if j.isalpha():\n",
    "            l.append(j)\n",
    "        elif j.isnumeric():\n",
    "            d.append(j)\n",
    "print(f\"LENGTH {len(l)}\\nDIGITS {len(d)}\")    "
   ]
  },
  {
   "cell_type": "code",
   "execution_count": 22,
   "id": "f238b072",
   "metadata": {},
   "outputs": [
    {
     "name": "stdout",
     "output_type": "stream",
     "text": [
      "hello world! 123\n",
      "LETTERS 10\n",
      "DIGITS 3\n"
     ]
    }
   ],
   "source": [
    "#better approach\n",
    "word = input()\n",
    "letter, digit = 0,0\n",
    "for i in word:\n",
    "    if i.isalpha(): # returns True if alphabet\n",
    "        letter += 1\n",
    "    elif i.isnumeric(): # returns True if numeric\n",
    "        digit += 1\n",
    "print(f\"LETTERS {letter}\\nDIGITS {digit}\") # two different types of formating method is shown in both solution"
   ]
  },
  {
   "cell_type": "markdown",
   "id": "4c28c4fd",
   "metadata": {},
   "source": [
    "30.Write a program that accepts a sentence and calculate the number of upper case letters and lower case letters.\n",
    "Suppose the following input is supplied to the program:\n",
    "Hello world!\n",
    "Then, the output should be:\n",
    "UPPER CASE 1\n",
    "LOWER CASE 9"
   ]
  },
  {
   "cell_type": "code",
   "execution_count": 23,
   "id": "47846e6a",
   "metadata": {},
   "outputs": [
    {
     "name": "stdout",
     "output_type": "stream",
     "text": [
      "Hello world!\n",
      "UPPER CASE 1\n",
      "LOWER CASE 9\n"
     ]
    }
   ],
   "source": [
    "word = input()\n",
    "u,l=0,0\n",
    "for i in word:\n",
    "    if i.isupper():\n",
    "        u+=1\n",
    "    elif i.islower():\n",
    "        l+=1\n",
    "print(f\"UPPER CASE {u}\\nLOWER CASE {l}\")"
   ]
  },
  {
   "cell_type": "markdown",
   "id": "7acba8ca",
   "metadata": {},
   "source": [
    "31.Write a program that computes the value of a+aa+aaa+aaaa with a given digit as the value of a.\n",
    "Suppose the following input is supplied to the program:\n",
    "9\n",
    "Then, the output should be:\n",
    "11106"
   ]
  },
  {
   "cell_type": "code",
   "execution_count": 24,
   "id": "371e9ece",
   "metadata": {},
   "outputs": [
    {
     "name": "stdout",
     "output_type": "stream",
     "text": [
      "9\n",
      "11106\n"
     ]
    }
   ],
   "source": [
    "a = input()\n",
    "total,tmp = 0,str()        # initialing an integer and empty string\n",
    "for i in range(4):\n",
    "    tmp+=a               # concatenating 'a' to 'tmp'\n",
    "    total+=int(tmp)      # converting string type to integer type\n",
    "\n",
    "print(total)\n"
   ]
  },
  {
   "cell_type": "markdown",
   "id": "0337c9fc",
   "metadata": {},
   "source": [
    "32.Use a list comprehension to square each odd number in a list. The list is input by a sequence of comma-separated numbers. >Suppose the following input is supplied to the program:\n",
    "1,2,3,4,5,6,7,8,9\n",
    "Then, the output should be:\n",
    "1,9,25,49,81"
   ]
  },
  {
   "cell_type": "code",
   "execution_count": 30,
   "id": "9b56189e",
   "metadata": {},
   "outputs": [
    {
     "name": "stdout",
     "output_type": "stream",
     "text": [
      "15\n",
      "[1, 9, 25, 49, 81, 121, 169, 225]\n"
     ]
    }
   ],
   "source": [
    "num=int(input())\n",
    "l=[x**2 for x in range(1,num+1) if x%2]\n",
    "print(l)"
   ]
  },
  {
   "cell_type": "code",
   "execution_count": 29,
   "id": "c54e1ffe",
   "metadata": {},
   "outputs": [
    {
     "name": "stdout",
     "output_type": "stream",
     "text": [
      "1,2,3,4,5,6,7,8,9\n",
      "1,9,25,49,81\n"
     ]
    }
   ],
   "source": [
    "lst = [str(int(i)**2) for i in input().split(',') if int(i) % 2]\n",
    "print(\",\".join(lst))"
   ]
  },
  {
   "cell_type": "code",
   "execution_count": 27,
   "id": "9c6242da",
   "metadata": {},
   "outputs": [
    {
     "name": "stdout",
     "output_type": "stream",
     "text": [
      "1,2,3,4,5,6,7,8,9\n",
      "1,9,25,49,81\n"
     ]
    }
   ],
   "source": [
    "lst=[]\n",
    "a=input().split(',')\n",
    "for i in a:\n",
    "    if int(i)%2:\n",
    "        lst.append(str(int(i)**2))\n",
    "print(','.join(lst))"
   ]
  },
  {
   "cell_type": "markdown",
   "id": "e69fc861",
   "metadata": {},
   "source": [
    "33.Write a program that computes the net amount of a bank account based a transaction log from console input. The transaction log format is shown as following:\n",
    "D 100\n",
    "W 200\n",
    "D means deposit while W means withdrawal.\n",
    "Suppose the following input is supplied to the program:\n",
    "D 300\n",
    "D 300\n",
    "W 200\n",
    "D 100\n",
    "Then, the output should be:\n",
    "500"
   ]
  },
  {
   "cell_type": "code",
   "execution_count": 6,
   "id": "2fadadb9",
   "metadata": {},
   "outputs": [
    {
     "name": "stdout",
     "output_type": "stream",
     "text": [
      "Deposit/Withdraw/Balance/Quit? D/W/B/Q: d\n",
      "How much would you like to deposit? 5000\n",
      "Deposit/Withdraw/Balance/Quit? D/W/B/Q: w\n",
      "How much would you like to withdraw? 6000\n",
      "Insufficient Balance\n",
      "Deposit/Withdraw/Balance/Quit? D/W/B/Q: w\n",
      "How much would you like to withdraw? 5000\n",
      "Deposit/Withdraw/Balance/Quit? D/W/B/Q: b\n",
      "0\n",
      "Deposit/Withdraw/Balance/Quit? D/W/B/Q: q\n"
     ]
    }
   ],
   "source": [
    "account = 0\n",
    "while True:\n",
    "    action = input(\"Deposit/Withdraw/Balance/Quit? D/W/B/Q: \").lower()\n",
    "    if action == \"d\":\n",
    "        deposit = int(input(\"How much would you like to deposit? \"))\n",
    "        account = account + deposit\n",
    "    elif action == \"w\":\n",
    "        withdraw = int(input(\"How much would you like to withdraw? \"))\n",
    "        if withdraw<=account:\n",
    "            account = account - withdraw\n",
    "        else:\n",
    "            print(\"Insufficient Balance\")\n",
    "    elif action == \"b\":\n",
    "        print(account)\n",
    "    else:\n",
    "        break"
   ]
  },
  {
   "cell_type": "markdown",
   "id": "1d909327",
   "metadata": {},
   "source": [
    "34.A website requires the users to input username and password to register. Write a program to check the validity of password input by users.\n",
    "\n",
    "Following are the criteria for checking the password:\n",
    "\n",
    "At least 1 letter between [a-z]\n",
    "At least 1 number between [0-9]\n",
    "At least 1 letter between [A-Z]\n",
    "At least 1 character from [$#@]\n",
    "Minimum length of transaction password: 6\n",
    "Maximum length of transaction password: 12\n",
    "Your program should accept a sequence of comma separated passwords and will check them according to the above criteria. Passwords that match the criteria are to be printed, each separated by a comma.\n",
    "\n",
    "Example\n",
    "\n",
    "If the following passwords are given as input to the program:\n",
    "\n",
    "ABd1234@1,a F1#,2w3E*,2We3345\n",
    "Then, the output of the program should be:\n",
    "\n",
    "ABd1234@1"
   ]
  },
  {
   "cell_type": "code",
   "execution_count": 1,
   "id": "2504b3ef",
   "metadata": {},
   "outputs": [
    {
     "name": "stdout",
     "output_type": "stream",
     "text": [
      "ABd1234@1,a F1#,2w3E*,2We3345\n",
      "ABd1234@1\n"
     ]
    }
   ],
   "source": [
    "def is_low(x):                  # Returns True  if the string has a lowercase\n",
    "    for i in x:\n",
    "        if 'a'<=i and i<='z':\n",
    "            return True\n",
    "    return  False\n",
    "\n",
    "def is_up(x):                   # Returns True  if the string has a uppercase\n",
    "    for i in x:\n",
    "        if 'A'<= i and i<='Z':\n",
    "            return True\n",
    "    return  False\n",
    "\n",
    "def is_num(x):                  # Returns True  if the string has a numeric digit\n",
    "    for i in x:\n",
    "        if '0'<=i and i<='9':\n",
    "            return True\n",
    "    return  False\n",
    "\n",
    "def is_other(x):                # Returns True if the string has any \"$#@\"\n",
    "    for i in x:\n",
    "        if i=='$' or i=='#' or i=='@':\n",
    "            return True\n",
    "    return False\n",
    "\n",
    "s=input().split(\",\")\n",
    "lst=[]\n",
    "\n",
    "for i in s:\n",
    "    length = len(i)\n",
    "    if 6 <= length and length <= 12 and is_low(i) and is_up(i) and is_num(i) and is_other(i): \n",
    "        lst.append(i)\n",
    "\n",
    "print(\",\".join(lst))"
   ]
  },
  {
   "cell_type": "markdown",
   "id": "2734b8e2",
   "metadata": {},
   "source": [
    "35. Leap Year"
   ]
  },
  {
   "cell_type": "code",
   "execution_count": 11,
   "id": "3c7908af",
   "metadata": {},
   "outputs": [
    {
     "name": "stdout",
     "output_type": "stream",
     "text": [
      "1900\n",
      "1900 is not a leap year\n"
     ]
    }
   ],
   "source": [
    "y=int(input())\n",
    "if y%400==0:\n",
    "    print(f\"{y} is a leap year\")\n",
    "elif y%4==0 and y%100!=0:\n",
    "    print(f\"{y} is a leap year\")\n",
    "else:\n",
    "    print(f\"{y} is not a leap year\")"
   ]
  },
  {
   "cell_type": "markdown",
   "id": "9e1e078a",
   "metadata": {},
   "source": [
    "36.Factors of a number"
   ]
  },
  {
   "cell_type": "code",
   "execution_count": 4,
   "id": "3682e6d9",
   "metadata": {},
   "outputs": [
    {
     "name": "stdout",
     "output_type": "stream",
     "text": [
      "Enter a number: 20\n",
      "Factors are [1, 2, 4, 5, 10, 20]\n"
     ]
    }
   ],
   "source": [
    "num=int(input(\"Enter a number: \"))\n",
    "l=[]\n",
    "for i in range(1,num+1):\n",
    "    if num%i==0:\n",
    "        l.append(i)\n",
    "print(f\"Factors are {l}\")"
   ]
  },
  {
   "cell_type": "code",
   "execution_count": 13,
   "id": "293d1b7b",
   "metadata": {},
   "outputs": [
    {
     "name": "stdout",
     "output_type": "stream",
     "text": [
      "123\n",
      "True\n",
      "False\n",
      "True\n",
      "False\n",
      "False\n"
     ]
    }
   ],
   "source": [
    "def fun1(s):\n",
    "    for i in range(len(s)):\n",
    "        if(s[i].isalnum()):\n",
    "            return True\n",
    "    return False\n",
    "        \n",
    "def fun2(s):\n",
    "    for i in range(len(s)):\n",
    "        if(s[i].isalpha()):\n",
    "            return True\n",
    "    return False\n",
    "\n",
    "def fun3(s):\n",
    "    for i in range(len(s)):\n",
    "        if(s[i].isdigit()):\n",
    "            return True\n",
    "    return False\n",
    "\n",
    "def fun4(s):\n",
    "    for i in range(len(s)):\n",
    "        if(s[i].islower()):\n",
    "            return True\n",
    "    return False \n",
    "     \n",
    "def fun5(s):\n",
    "    for i in range(len(s)):\n",
    "        if(s[i].isupper()):\n",
    "            return True\n",
    "    return False\n",
    " \n",
    "if __name__ == '__main__':\n",
    "    s = input()\n",
    "    print(fun1(s))\n",
    "    print(fun2(s))\n",
    "    print(fun3(s))\n",
    "    print(fun4(s))\n",
    "    print(fun5(s))\n"
   ]
  },
  {
   "cell_type": "code",
   "execution_count": 17,
   "id": "b6fbf88c",
   "metadata": {},
   "outputs": [
    {
     "name": "stdout",
     "output_type": "stream",
     "text": [
      "qA2\n",
      "False\n"
     ]
    }
   ],
   "source": [
    "def fun2(s):\n",
    "    for i in s:\n",
    "        if(s.isalpha()):\n",
    "            return True\n",
    "    return False\n",
    "if __name__ == '__main__':\n",
    "    s = input()\n",
    "    print(fun2(s))"
   ]
  },
  {
   "cell_type": "code",
   "execution_count": 16,
   "id": "7c685bd5",
   "metadata": {},
   "outputs": [
    {
     "name": "stdout",
     "output_type": "stream",
     "text": [
      "False\n"
     ]
    }
   ],
   "source": [
    "print('qA2'.isalpha())"
   ]
  },
  {
   "cell_type": "code",
   "execution_count": null,
   "id": "aae0c987",
   "metadata": {},
   "outputs": [],
   "source": []
  }
 ],
 "metadata": {
  "kernelspec": {
   "display_name": "Python 3",
   "language": "python",
   "name": "python3"
  },
  "language_info": {
   "codemirror_mode": {
    "name": "ipython",
    "version": 3
   },
   "file_extension": ".py",
   "mimetype": "text/x-python",
   "name": "python",
   "nbconvert_exporter": "python",
   "pygments_lexer": "ipython3",
   "version": "3.9.4"
  }
 },
 "nbformat": 4,
 "nbformat_minor": 5
}
